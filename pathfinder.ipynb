{
 "cells": [
  {
   "cell_type": "code",
   "execution_count": 20,
   "metadata": {},
   "outputs": [
    {
     "name": "stdout",
     "output_type": "stream",
     "text": [
      "◊ ° ◊ ◊ ◊ ◊ ◊\n",
      "◊ ° ° ◊ · · ◊\n",
      "◊ ◊ ° ° ° ◊ ◊\n",
      "◊ · · ◊ ° · ◊\n",
      "◊ ◊ ◊ ◊ ° ◊ ◊\n",
      "◊ · ° ° ° ◊ ◊\n",
      "◊ ◊ ° ◊ ◊ ◊ ◊\n"
     ]
    }
   ],
   "source": [
    "import heapq\n",
    "import numpy as np\n",
    "\n",
    "def dijkstra(grid, start, goal):\n",
    "    rows, cols = len(grid), len(grid[0])\n",
    "    distances = { (i, j): float('inf') for i in range(rows) for j in range(cols) }\n",
    "    distances[start] = 0\n",
    "    priority_queue = [(0, start)]\n",
    "    came_from = {start: None}\n",
    "\n",
    "    while priority_queue:\n",
    "        current_distance, current_node = heapq.heappop(priority_queue)\n",
    "\n",
    "        if current_node == goal:\n",
    "            break\n",
    "\n",
    "        for direction in [(0, 1), (1, 0), (0, -1), (-1, 0)]:\n",
    "            neighbor = (current_node[0] + direction[0], current_node[1] + direction[1])\n",
    "            if 0 <= neighbor[0] < rows and 0 <= neighbor[1] < cols:\n",
    "                distance = current_distance + grid[neighbor[0]][neighbor[1]]\n",
    "                if distance < distances[neighbor]:\n",
    "                    distances[neighbor] = distance\n",
    "                    heapq.heappush(priority_queue, (distance, neighbor))\n",
    "                    came_from[neighbor] = current_node\n",
    "\n",
    "    path = []\n",
    "    current = goal\n",
    "    while current:\n",
    "        path.append(current)\n",
    "        current = came_from[current]\n",
    "    path.reverse()\n",
    "    return path\n",
    "\n",
    "grid = [\n",
    "    [9, 1, 9, 9, 9, 9, 9],\n",
    "    [9, 1, 1, 9, 1, 1, 9],\n",
    "    [9, 9, 1, 1, 1, 9, 9],\n",
    "    [9, 1, 1, 9, 1, 1, 9],\n",
    "    [9, 9, 9, 9, 1, 9, 9],\n",
    "    [9, 1, 1, 1, 1, 9, 9],\n",
    "    [9, 9, 1, 9, 9, 9, 9]\n",
    "]\n",
    "\n",
    "start = (0, 1)\n",
    "goal = (6, 2)\n",
    "\n",
    "path = dijkstra(grid, start, goal)\n",
    "\n",
    "def print_grid(grid, path):\n",
    "    grid_copy = np.array(grid, dtype=object)\n",
    "    for (r, c) in path:\n",
    "        grid_copy[r, c] = '°'\n",
    "    \n",
    "    grid_copy[grid_copy == 1] = '·'\n",
    "    grid_copy[grid_copy == 9] = '◊'\n",
    "    \n",
    "    for row in grid_copy:\n",
    "        print(' '.join(str(cell) for cell in row))\n",
    "\n",
    "print_grid(grid, path)"
   ]
  },
  {
   "cell_type": "code",
   "execution_count": 21,
   "metadata": {},
   "outputs": [
    {
     "data": {
      "text/markdown": [
       "| Position | Kp | Kg | Start Dir  | End Dir |\n",
       "|-|-|-|-|-|\n",
       "| 01 | 4 | 4 | down | down |\n",
       "| 11 | 4 | 1 | down | right |\n",
       "| 12 | 1 | 4 | right | down |\n",
       "| 22 | 4 | 1 | down | right |\n",
       "| 23 | 1 | 1 | right | right |\n",
       "| 24 | 1 | 4 | right | down |\n",
       "| 34 | 4 | 4 | down | down |\n",
       "| 44 | 4 | 4 | down | down |\n",
       "| 54 | 4 | 3 | down | left |\n",
       "| 53 | 3 | 3 | left | left |\n",
       "| 52 | 3 | 4 | left | down |\n",
       "| 62 | 4 | 4 | down | down |\n"
      ],
      "text/plain": [
       "<IPython.core.display.Markdown object>"
      ]
     },
     "metadata": {},
     "output_type": "display_data"
    }
   ],
   "source": [
    "from IPython.display import Markdown, display\n",
    "\n",
    "direction_to_words_map = {\n",
    "    1: 'right',\n",
    "    4: 'down',\n",
    "    3: 'left',\n",
    "    2: 'up'\n",
    "}\n",
    "\n",
    "direction_map = {\n",
    "    (0, 1): 1,\n",
    "    (1, 0): 4,\n",
    "    (0, -1): 3,\n",
    "    (-1, 0): 2\n",
    "}\n",
    "\n",
    "def add_directions(path, start_direction):\n",
    "    path_and_directions = []\n",
    "\n",
    "    for i in range(1, len(path)):\n",
    "        prev = path[i - 1]\n",
    "        curr = path[i]\n",
    "        move = (curr[0] - prev[0], curr[1] - prev[1])\n",
    "\n",
    "        path_and_directions.append((prev, direction_map[start_direction], direction_map[move]))\n",
    "        start_direction = move\n",
    "\n",
    "    path_and_directions.append((path[-1], direction_map[start_direction], direction_map[start_direction]))\n",
    "\n",
    "    return path_and_directions\n",
    "\n",
    "path_and_directions = add_directions(path, (1, 0))\n",
    "\n",
    "def display_path_and_directions(path_and_directions):\n",
    "    table = \"| Position | Kp | Kg | Start Dir  | End Dir |\\n\"\n",
    "    table += \"|-|-|-|-|-|\\n\"\n",
    "    for i, (position, start_dir, move_dir) in enumerate(path_and_directions):\n",
    "        table += f\"| {position[0]}{position[1]} | {start_dir} | {move_dir} | {direction_to_words_map[int(start_dir)]} | {direction_to_words_map[int(move_dir)]} |\\n\"\n",
    "    display(Markdown(table))\n",
    "\n",
    "display_path_and_directions(path_and_directions)\n"
   ]
  },
  {
   "cell_type": "code",
   "execution_count": 22,
   "metadata": {},
   "outputs": [
    {
     "data": {
      "text/markdown": [
       "| Position | Command | Named | \n",
       "|-|-|-|\n",
       "| 01 | 0 | move forward |\n",
       "| 11 | 3 | turn left and move |\n",
       "| 12 | 1 | turn right and move |\n",
       "| 22 | 3 | turn left and move |\n",
       "| 23 | 0 | move forward |\n",
       "| 24 | 1 | turn right and move |\n",
       "| 34 | 0 | move forward |\n",
       "| 44 | 0 | move forward |\n",
       "| 54 | 1 | turn right and move |\n",
       "| 53 | 0 | move forward |\n",
       "| 52 | 3 | turn left and move |\n",
       "| 62 | 0 | move forward |\n"
      ],
      "text/plain": [
       "<IPython.core.display.Markdown object>"
      ]
     },
     "metadata": {},
     "output_type": "display_data"
    }
   ],
   "source": [
    "move_commands_to_words_map = {\n",
    "    0: 'move forward',\n",
    "    1: 'turn right and move',\n",
    "    3: 'turn left and move'\n",
    "}\n",
    "\n",
    "def generate_commands(path_and_directions):\n",
    "    move_command_mapping = {\n",
    "        0: 0,\n",
    "        1: 3,\n",
    "        2: 2,\n",
    "        3: 1\n",
    "    }\n",
    "\n",
    "    commands = []\n",
    "    for position, start_dir, move_dir in path_and_directions:\n",
    "        command = (move_dir - start_dir + 4) % 4\n",
    "        commands.append((position, move_command_mapping[command]))\n",
    "\n",
    "    return commands\n",
    "\n",
    "commands = generate_commands(path_and_directions)\n",
    "\n",
    "table = \"| Position | Command | Named | \\n\"\n",
    "table += \"|-|-|-|\\n\"\n",
    "for position, command in commands:\n",
    "    table += f\"| {position[0]}{position[1]} | {command} | {move_commands_to_words_map[command]} |\\n\"\n",
    "display(Markdown(table))"
   ]
  },
  {
   "cell_type": "code",
   "execution_count": 23,
   "metadata": {},
   "outputs": [
    {
     "ename": "NameError",
     "evalue": "name 'move_commands' is not defined",
     "output_type": "error",
     "traceback": [
      "\u001b[0;31m---------------------------------------------------------------------------\u001b[0m",
      "\u001b[0;31mNameError\u001b[0m                                 Traceback (most recent call last)",
      "Cell \u001b[0;32mIn[23], line 38\u001b[0m\n\u001b[1;32m     34\u001b[0m         directions\u001b[38;5;241m.\u001b[39mappend(move_commands[\u001b[38;5;241m0\u001b[39m])\n\u001b[1;32m     36\u001b[0m     \u001b[38;5;28;01mreturn\u001b[39;00m directions\n\u001b[0;32m---> 38\u001b[0m directions \u001b[38;5;241m=\u001b[39m \u001b[43mpath_to_directions\u001b[49m\u001b[43m(\u001b[49m\u001b[43mpath\u001b[49m\u001b[43m)\u001b[49m\n\u001b[1;32m     39\u001b[0m \u001b[38;5;28;01mfor\u001b[39;00m direction \u001b[38;5;129;01min\u001b[39;00m directions:\n\u001b[1;32m     40\u001b[0m     \u001b[38;5;28mprint\u001b[39m(direction)\n",
      "Cell \u001b[0;32mIn[23], line 34\u001b[0m, in \u001b[0;36mpath_to_directions\u001b[0;34m(path)\u001b[0m\n\u001b[1;32m     31\u001b[0m     \u001b[38;5;28;01melif\u001b[39;00m turn_count \u001b[38;5;241m==\u001b[39m \u001b[38;5;241m3\u001b[39m:\n\u001b[1;32m     32\u001b[0m         directions\u001b[38;5;241m.\u001b[39mappend(move_commands[\u001b[38;5;241m2\u001b[39m])\n\u001b[0;32m---> 34\u001b[0m     directions\u001b[38;5;241m.\u001b[39mappend(\u001b[43mmove_commands\u001b[49m[\u001b[38;5;241m0\u001b[39m])\n\u001b[1;32m     36\u001b[0m \u001b[38;5;28;01mreturn\u001b[39;00m directions\n",
      "\u001b[0;31mNameError\u001b[0m: name 'move_commands' is not defined"
     ]
    }
   ],
   "source": [
    "direction_map = {\n",
    "    (0, 1): 'right',\n",
    "    (1, 0): 'down',\n",
    "    (0, -1): 'left',\n",
    "    (-1, 0): 'up'\n",
    "}\n",
    "\n",
    "path_and_directions = []\n",
    "\n",
    "def path_to_directions(path):\n",
    "    directions = []\n",
    "    current_direction = (1, 0)\n",
    "\n",
    "    for i in range(1, len(path)):\n",
    "        prev = path[i - 1]\n",
    "        curr = path[i]\n",
    "        move = (curr[0] - prev[0], curr[1] - prev[1])\n",
    "\n",
    "        path_and_directions.append((prev, current_direction, direction_map[move]))\n",
    "\n",
    "        turn_count = 0\n",
    "        while move != current_direction:\n",
    "            turn_count += 1\n",
    "            current_direction = (current_direction[1], -current_direction[0])\n",
    "\n",
    "        if turn_count == 1:\n",
    "            directions.append(move_commands[1])\n",
    "        elif turn_count == 2:\n",
    "            directions.append(move_commands[1])\n",
    "            directions.append(move_commands[1])\n",
    "        elif turn_count == 3:\n",
    "            directions.append(move_commands[2])\n",
    "        \n",
    "        directions.append(move_commands[0])\n",
    "\n",
    "    return directions\n",
    "\n",
    "directions = path_to_directions(path)\n",
    "for direction in directions:\n",
    "    print(direction)"
   ]
  },
  {
   "cell_type": "code",
   "execution_count": null,
   "metadata": {},
   "outputs": [
    {
     "name": "stdout",
     "output_type": "stream",
     "text": [
      "0 -> look left\n",
      "2 -> look left\n",
      "0 -> look right\n",
      "1 -> look right\n",
      "0 -> look left\n",
      "2 -> look left\n",
      "0 -> look right\n",
      "0 -> look right\n",
      "1 -> look right\n",
      "0 -> look right\n",
      "0 -> look right\n",
      "0 -> look right\n",
      "1 -> look right\n",
      "0 -> look left\n",
      "0 -> look left\n",
      "2 -> look left\n",
      "0 -> look forward\n"
     ]
    }
   ],
   "source": [
    "sensor_commands = [\n",
    "    'look forward',\n",
    "    'look right',\n",
    "    'look left',\n",
    "]\n",
    "\n",
    "sensor_directions = []\n",
    "\n",
    "for i, direction in enumerate(directions):\n",
    "    next_command = sensor_commands[0]\n",
    "    for j in range(i, len(directions)):\n",
    "        if j != move_commands[0]:\n",
    "            if directions[j] == move_commands[1]:\n",
    "                next_command = sensor_commands[1]\n",
    "                break\n",
    "            elif directions[j] == move_commands[2]:\n",
    "                next_command = sensor_commands[2]\n",
    "                break\n",
    "    sensor_directions.append(next_command)\n",
    "\n",
    "for i, direction in enumerate(directions):\n",
    "    print(f'{direction} -> {sensor_directions[i]}')"
   ]
  }
 ],
 "metadata": {
  "kernelspec": {
   "display_name": "data_analysis",
   "language": "python",
   "name": "python3"
  },
  "language_info": {
   "codemirror_mode": {
    "name": "ipython",
    "version": 3
   },
   "file_extension": ".py",
   "mimetype": "text/x-python",
   "name": "python",
   "nbconvert_exporter": "python",
   "pygments_lexer": "ipython3",
   "version": "3.13.0"
  }
 },
 "nbformat": 4,
 "nbformat_minor": 2
}
